{
 "cells": [
  {
   "cell_type": "markdown",
   "id": "ca24bb58",
   "metadata": {},
   "source": [
    "# <b>Processing FISHnCHIPs images of the mouse brain </b>"
   ]
  },
  {
   "cell_type": "markdown",
   "id": "174718f7",
   "metadata": {},
   "source": [
    "FISHnCHIPs data processing with the aim of obtaining the spatial positions of the cells and the fluorescence intensity of the cell mask (cell-by-module intensity matrix). Clustering of the cell-by-module intensity matrix can be used to determine cell types. "
   ]
  },
  {
   "cell_type": "markdown",
   "id": "9cddf392",
   "metadata": {},
   "source": [
    "## *Preparation of schema file*"
   ]
  },
  {
   "cell_type": "markdown",
   "id": "8455671d",
   "metadata": {},
   "source": [
    "<p>The schema file contains information on the dye and hyb number for each gene module imaged.</p>\n",
    "<p>The schema file should be in csv format. Refer to <font color=sandybrown>template_schema.xlsx</font> in the <font color=royalblue>config_yaml</font> folder for reference.</p>"
   ]
  },
  {
   "cell_type": "markdown",
   "id": "850a99c4",
   "metadata": {},
   "source": [
    "## *Preparation of yaml file*"
   ]
  },
  {
   "cell_type": "markdown",
   "id": "d24ef615",
   "metadata": {},
   "source": [
    "Create a yaml file or use the <font color=sandybrown>template_yaml.yaml</font> file in the <font color=royalblue>config_yaml</font> folder as template."
   ]
  },
  {
   "cell_type": "markdown",
   "id": "4cfab929",
   "metadata": {},
   "source": [
    "*In the yaml file, include the following information:*\n",
    "\n",
    "* **mainpath**: The file path where DAPI and hyb image TIF file are stored\n",
    "* **schema**: The file path where the schema csv file is located. Schema file should contain the cell type to analyse and its corresponding dye\n",
    "* **dapiname**: Prefix name of dapi file\n",
    "* **fovs**: Number of field of views (FOVs) to process\n",
    "* **fov_x**: Number of FOVs along x-axis\n",
    "* **fov_y**: Number of FOVs along y-axis\n",
    "* **overlap_in_px**: Number of pixel that overlaps between each FOV\n",
    "* **background**: Default \"bleach\"; Type of background image used to offset background noise\n",
    "* **remove_background**: Default 'subtract'; How background noise is removed\n",
    "* **show_dapiseg**: Boolean; Whether to run segmentation function\n",
    "* **segmentation**: Select segmentation method; 'cellpose' or 'watershed'\n",
    "* **segment_mode**: 'Cytoplasm', 'Cytoplasm2', 'Cytoplasm2_Omnipose', 'Nuclei' for cellpose\n",
    "* **cellsize**: Cell size in μm\n",
    "* **flow_threshold**: Default 0.4; Increase threshold if cellpose is not returning as many ROIs as you’d expect.\n",
    "* **cellprob_threshold**: Default 0.0; Decrease this threshold if cellpose is not returning as many ROIs as you’d expect.\n",
    "* **mask_dilate_factor**: Amount of dilation applied to cell mask\n",
    "* **filtermask**: Boolean; Whether to remove small masks\n",
    "* **filtermask_size**: Minimum mask size\n",
    "* **anchor_name**: Prefix of hyb image to segment e.g.'Cy7_3_'\n",
    "* **anchor_celltype**: Celltype label of the hyb image e.g.'CAF_1'\n",
    "\n",
    "\n",
    "*Configuration for watershed segmentation*\n",
    "\n",
    "* **fusedpath**: File path of fused image to determine the minimum and maximum intensity at a certain percentile\n",
    "* **cutoff_threshold**: Threshold value which is used to classify the pixel values into foreground and background classes, creating a binary image\n",
    "* **opening_threshold**: Number of iterations of erosion and dilation that the image goes through\n",
    "* **kernel_size**: Size of kernel that slides through the image which will determine how much the image is eroded or dilated"
   ]
  },
  {
   "cell_type": "markdown",
   "id": "4c1dbdb2",
   "metadata": {},
   "source": [
    "## *Installing and imprting relevant packages*"
   ]
  },
  {
   "cell_type": "markdown",
   "id": "7779d505",
   "metadata": {},
   "source": [
    "Prior to importing the packages and functions, please install the FishnChips package with the following installation command: \n",
    "<p><font color=blue>pip install -i https://test.pypi.org/simple/ FishnChips</font> </p>\n",
    "<p>This tutorial uses cellpose alogorithm for cellular segmentation. Install cellpose using the following command:</p>\n",
    "<p><font color=blue>pip install cellpose</font></p>\n",
    "<p>Scikit-image is used for image processing in this tutorial. Install scikit-image using the following command:</p>\n",
    "<p><font color=blue>pip install -U scikit-image</font></p>"
   ]
  },
  {
   "cell_type": "code",
   "execution_count": 15,
   "id": "689bc25c",
   "metadata": {},
   "outputs": [],
   "source": [
    "import os\n",
    "import yaml\n",
    "import shutil\n",
    "\n",
    "import pandas as pd\n",
    "import matplotlib.pyplot as plt\n",
    "\n",
    "from multiprocessing import Pool\n",
    "from itertools import repeat\n",
    "import itertools\n",
    "#from FishnChips (use this line when package has been uploaded)\n",
    "from scripts import FISHnCHIPsImages, segmentationFunctions "
   ]
  },
  {
   "cell_type": "markdown",
   "id": "0900857c",
   "metadata": {},
   "source": [
    "<div></div>"
   ]
  },
  {
   "cell_type": "markdown",
   "id": "143f5ed5",
   "metadata": {},
   "source": [
    "## *Segment DAPI image*"
   ]
  },
  {
   "cell_type": "markdown",
   "id": "91b44c4a",
   "metadata": {},
   "source": [
    "### 1) Import configuration from yaml file"
   ]
  },
  {
   "cell_type": "markdown",
   "id": "86848770",
   "metadata": {},
   "source": [
    "Fetch the yaml file from its directory and define the FOVs to analyse. All FOVs will be analysed if no FOVs were specified."
   ]
  },
  {
   "cell_type": "code",
   "execution_count": 2,
   "id": "18bf7320",
   "metadata": {},
   "outputs": [],
   "source": [
    "# Input setting file ---------------------------------------------------------------------------------------------------------\n",
    "yml_file = r'./config_yaml/register_maxshift50params.yaml'\n",
    "fov_list = None # User-defined FOVs to analyse: e.g. fov_list = ['010', '012', '059']; if None, analyse all fovs by default"
   ]
  },
  {
   "cell_type": "markdown",
   "id": "b0ba154a",
   "metadata": {},
   "source": [
    "<p>Load configuration from the yaml file into the variable <font color=purple>user_dict</font> as a dictionary. </p>"
   ]
  },
  {
   "cell_type": "markdown",
   "id": "44135954",
   "metadata": {},
   "source": [
    "<p>Create output path based on segmentation method and parameters and generate folder for storing output if it does not exist. </p>Saves a copy of the configuration used in the output folder as a yaml file."
   ]
  },
  {
   "cell_type": "code",
   "execution_count": 3,
   "id": "2a30f754",
   "metadata": {},
   "outputs": [
    {
     "name": "stdout",
     "output_type": "stream",
     "text": [
      "./output_files/cellpose_Nuclei_cs15_k2_filt0_DAPI/\n"
     ]
    }
   ],
   "source": [
    "### Parsing the .yaml file and create output folder ------------------------------------------------------------------------\n",
    "with open(yml_file) as file:\n",
    "    user_dict= yaml.load(file, Loader=yaml.FullLoader)\n",
    "if user_dict['segmentation']=='cellpose':\n",
    "    output_path = os.path.join('./output_files/', 'cellpose_%s_cs%s_k%s_filt%i_DAPI/' % (str(user_dict['segment_mode']), str(user_dict['cellsize']), \n",
    "                                                                                  str(user_dict['mask_dilate_factor']), user_dict['filtermask_size']))\n",
    "elif user_dict['segmentation'] == 'watershed':\n",
    "    output_path = os.path.join('./watershed/')\n",
    "print(output_path)\n",
    "if not os.path.exists(output_path):\n",
    "    os.makedirs(output_path)\n",
    "    shutil.copyfile(yml_file, output_path + \"params.yaml\")"
   ]
  },
  {
   "cell_type": "markdown",
   "id": "5826afe6",
   "metadata": {},
   "source": [
    "### 2) Initialize parameters for segmentation"
   ]
  },
  {
   "cell_type": "markdown",
   "id": "24115425",
   "metadata": {},
   "source": [
    "segmentDAPI: boolean input, True to run segmentation on DAPI images"
   ]
  },
  {
   "cell_type": "code",
   "execution_count": 4,
   "id": "86b491b2",
   "metadata": {},
   "outputs": [],
   "source": [
    "# Parameters for segment DAPI -------------------------------------------------------------------------------------------------\n",
    "segmentDAPI = True"
   ]
  },
  {
   "cell_type": "markdown",
   "id": "c6abc1d4",
   "metadata": {},
   "source": [
    "### 3) Cell segmentation for every FOV image"
   ]
  },
  {
   "cell_type": "markdown",
   "id": "76965078",
   "metadata": {},
   "source": [
    "<p>Ignore this section if segmentation is not required for your usage (<font color=maroon>segmentDAPI</font> = FALSE).</p>\n",
    "<p>Segment all FOVs if no FOVs are specified. Segment FOVs using the <font color=purple>segment_dapi_one_fov</font> function from <font color=forestgreen>FISHnCHIPsImages</font>.</p>\n",
    "<p>Multiprocessing of the segmentation is conducted to conserve time. Please adjust the number of processors to use according to your machine specifications. For this case, 8 processors were used for multiprocessing.</p>\n",
    "<p>The function returns the list of cell masks for the analyzed FOVs and saves each segmented image in .tif format (image on the left).</p> \n",
    "<p>An overlapped image of the DAPI image and cell mask is also saved in .jpg format, showing the number of cell masks (image on the right).</p>"
   ]
  },
  {
   "attachments": {},
   "cell_type": "markdown",
   "id": "8b2047de",
   "metadata": {},
   "source": [
    "<table><tr>\n",
    "    <td> <img src=\"./assets/DAPI_rm389_fov_0.jpg\" width=\"380\" /> <p><center><b>Segmented image in tif format</b></center></p></td>\n",
    "<td> <img src=\"./assets/dapi_overlay_mask_fov_0.jpg\" width=\"510\" /> <p><center><b>Segmented image and cell mask overlay in jpg format</b></center></p> </td>\n",
    "</tr></table>"
   ]
  },
  {
   "cell_type": "code",
   "execution_count": 5,
   "id": "81dd31f4",
   "metadata": {},
   "outputs": [
    {
     "name": "stdout",
     "output_type": "stream",
     "text": [
      "Segementation for all fovs......Done!\n"
     ]
    }
   ],
   "source": [
    "### Segment DAPI ----------------------------------------------------------------------------------------------------------\n",
    "if segmentDAPI:\n",
    "    ndigits = len(str(user_dict['fovs'])) # 2, 3 etc \n",
    "    if fov_list is None:\n",
    "        fov_list = [str(x).zfill(ndigits) for x in range(user_dict['fovs'])]\n",
    "\n",
    "    inputs = zip(repeat(user_dict), repeat(output_path), fov_list)\n",
    "    with Pool(8) as p:\n",
    "        p.starmap(FISHnCHIPsImages.segment_dapi_one_fov, inputs)\n",
    "    print(\"Segementation for all fovs......Done!\")"
   ]
  },
  {
   "cell_type": "markdown",
   "id": "02be7367",
   "metadata": {},
   "source": [
    "### 4) Obtaining mask positions from stitched and segmented image"
   ]
  },
  {
   "cell_type": "markdown",
   "id": "ba56d379",
   "metadata": {},
   "source": [
    "<p>Create list of FOVs containing all FOVs that constitutes of the whole stitched image.</p>\n",
    "<p>Create a list of filenames that starts with the same prefix in the output directory.</p>"
   ]
  },
  {
   "cell_type": "code",
   "execution_count": 6,
   "id": "6a0ae199",
   "metadata": {},
   "outputs": [],
   "source": [
    "### Scan all mask images for all FOVs and parse mask positions -------------------------------------------------------------\n",
    "fov_list_full = [str(x).zfill(ndigits) for x in range(user_dict['fovs'])]\n",
    "dapi_prefix = 'DAPI_rm389_fov'\n",
    "prefix = 'dilateMask_fov'\n",
    "prefixed = [filename for filename in os.listdir(output_path) if filename.startswith(prefix)]"
   ]
  },
  {
   "attachments": {},
   "cell_type": "markdown",
   "id": "fccee36f",
   "metadata": {},
   "source": [
    "<p>Using multiprocessing, the x and y coordinates of each centroid are obtained from the cell mask of each FOV image using the <font color=purple>get_centroids</font> from <font color=forestgreen>segmentationFunctions</font> and outputs the results as a csv file (<font color=mediumpurple>'centroids_in_FOVs.csv'</font>).</p>\n",
    "<p>After obtaining the x and y coordinates of each centroid for each FOV image, the overall position of the centroid/mask in the fused image (after stitching all FOV images together) is determined using the <font color=purple>get_mask_positions_inFuse</font> from <font color=forestgreen>segmentationFunctions</font> and outputs the result as a csv file (<font color=mediumpurple>'centroids_in_Fuse.csv'</font>).</p>\n",
    "<p>Lastly, the cell mask positions are plotted, visualized and saved as a jpg image (<font color=mediumpurple>'cells_scatterplt.jpg'</font>).</p>"
   ]
  },
  {
   "attachments": {},
   "cell_type": "markdown",
   "id": "2a7f4016",
   "metadata": {},
   "source": [
    "<img src=\"./assets/cells_scatterplt.jpg\" width=\"380\" /> <p><center><b>Scatterplot of cell masks</b></center></p></td>\n"
   ]
  },
  {
   "cell_type": "code",
   "execution_count": 7,
   "id": "2ae0883c",
   "metadata": {},
   "outputs": [
    {
     "name": "stdout",
     "output_type": "stream",
     "text": [
      "                                     Centroid  label FOV  Area  \\\n",
      "0      (78.78378378378379, 2.027027027027027)      1   0    37   \n",
      "1      (929.4961832061068, 9.903307888040713)      2   0   393   \n",
      "2     (972.7708333333334, 1.8541666666666667)      3   0    48   \n",
      "3    (1082.6363636363637, 2.2954545454545454)      4   0    44   \n",
      "4                             (1265.8, 4.975)      5   0    80   \n",
      "..                                        ...    ...  ..   ...   \n",
      "948    (967.569105691057, 1263.5528455284552)    949   3   123   \n",
      "949   (1236.393103448276, 1262.7586206896551)    950   3   145   \n",
      "950             (1263.75, 1266.0131578947369)    951   3    76   \n",
      "951                         (1077.5, 1266.22)    952   3    50   \n",
      "952                (73.5, 1266.5740740740741)    953   3    54   \n",
      "\n",
      "     DAPI_Mean_inten  DAPI_Max_inten  DAPI_Median_inten  DAPI_sum_inten  \\\n",
      "0         424.783784             548              408.5           15717   \n",
      "1         569.763359             783              539.0          223917   \n",
      "2         611.958333             816              540.0           29374   \n",
      "3         368.204545             438              358.5           16201   \n",
      "4         635.062500             846              621.5           50805   \n",
      "..               ...             ...                ...             ...   \n",
      "948       597.390244             750              585.0           73479   \n",
      "949       469.841379             628              430.5           68127   \n",
      "950       473.052632             550              456.0           35952   \n",
      "951       405.720000             487              390.5           20286   \n",
      "952       424.000000             527              414.0           22896   \n",
      "\n",
      "     DAPI_99pct_inten  \n",
      "0              535.91  \n",
      "1              766.00  \n",
      "2              812.10  \n",
      "3              436.59  \n",
      "4              839.04  \n",
      "..                ...  \n",
      "948            730.13  \n",
      "949            624.03  \n",
      "950            544.30  \n",
      "951            482.60  \n",
      "952            525.82  \n",
      "\n",
      "[3856 rows x 9 columns]\n",
      "row: 0 col: 0 fov: 2\n",
      "row: 0 col: 1 fov: 3\n",
      "1 1 1\n",
      "1 2 0\n",
      "                x            y\n",
      "0     1726.783784  1650.027027\n",
      "1     2577.496183  1657.903308\n",
      "2     2620.770833  1649.854167\n",
      "3     2730.636364  1650.295455\n",
      "4     2913.800000  1652.975000\n",
      "...           ...          ...\n",
      "3851  2615.569106  1263.552846\n",
      "3852  2884.393103  1262.758621\n",
      "3853  2911.750000  1266.013158\n",
      "3854  2725.500000  1266.220000\n",
      "3855  1721.500000  1266.574074\n",
      "\n",
      "[3856 rows x 2 columns]\n"
     ]
    }
   ],
   "source": [
    "if len(prefixed) == len(fov_list_full):\n",
    "    with Pool(8) as p:\n",
    "        result = p.starmap(segmentationFunctions.get_centroids, zip(repeat(output_path), repeat(prefix), repeat(dapi_prefix), fov_list_full))\n",
    "\n",
    "    df_centroids = pd.concat(result, axis=0)\n",
    "    df_centroids.to_csv(os.path.join(output_path, 'centroids_in_FOVs.csv'))\n",
    "    print(df_centroids)\n",
    "\n",
    "    centroid_list = df_centroids['Centroid'].to_list()\n",
    "    list_fov = df_centroids['FOV'].to_list()\n",
    "    list_x = [t[0] for t in centroid_list]\n",
    "    list_y = [t[1] for t in centroid_list]\n",
    "\n",
    "    mask_positions = segmentationFunctions.get_mask_positions_inFuse(list_fov, list_x, list_y, user_dict['fov_x'], user_dict['fov_y'])\n",
    "    mask_positions.to_csv(os.path.join(output_path, 'centroids_in_Fuse.csv'))\n",
    "    print(mask_positions)\n",
    "\n",
    "    plt.figure(figsize = (6,6))\n",
    "    plt.scatter(mask_positions['x'], mask_positions['y'], s=0.5)\n",
    "    plt.gca().invert_yaxis()\n",
    "    plt.gca().set_aspect('equal')\n",
    "    plt.tight_layout()\n",
    "    plt.savefig(os.path.join(output_path, 'cells_scatterplt.jpg'), \n",
    "                bbox_inches='tight', dpi = 120)\n",
    "    plt.close('all')\n",
    "\n",
    "else:\n",
    "    print('%i out of %i FOVs have been segmented. \\n \\\n",
    "          Please segment all FOVs before parsing the cells locations in the fused image.' % (len(prefixed), len(fov_list_full)))"
   ]
  },
  {
   "cell_type": "markdown",
   "id": "121ab5f6",
   "metadata": {},
   "source": [
    "<p> </p>"
   ]
  },
  {
   "cell_type": "markdown",
   "id": "1c3fed99",
   "metadata": {},
   "source": [
    "## *Subtract bleach from hyb images and register shifts to DAPI*"
   ]
  },
  {
   "cell_type": "markdown",
   "id": "4d49d3ab",
   "metadata": {},
   "source": [
    "### 1) Import configuration from yaml file"
   ]
  },
  {
   "cell_type": "markdown",
   "id": "d1adb922",
   "metadata": {},
   "source": [
    "Fetch the yaml file from its directory and define the FOVs and celltypes to analyse. \n",
    "All FOVs and celltypes will be analysed if none were specified."
   ]
  },
  {
   "cell_type": "code",
   "execution_count": 8,
   "id": "fd3c2dcd",
   "metadata": {},
   "outputs": [],
   "source": [
    "# Input setting file ---------------------------------------------------------------------------------------------------------\n",
    "yml_file = r'./config_yaml/register_maxshift50params.yaml'\n",
    "\n",
    "fov_list = None # User-defined FOVs to analyse: e.g. fov_list = ['010', '012', '059']; if None, analyse all fovs by default\n",
    "celltype_list = None\n",
    "\n",
    "ndigits = len(str(user_dict['fovs']))\n",
    "if fov_list is None:\n",
    "    fov_list = [str(x).zfill(ndigits) for x in range(user_dict['fovs'])] # for pool \n",
    "if celltype_list is None:\n",
    "    image_obj_0 = FISHnCHIPsImages.yml_class(user_dict, output_path)\n",
    "    celltype_list = image_obj_0.imagename_dict.keys()"
   ]
  },
  {
   "cell_type": "markdown",
   "id": "75f5e6d5",
   "metadata": {},
   "source": [
    "<p>Load configuration from the yaml file into the variable <font color=purple>user_dict</font> as a dictionary. </p>"
   ]
  },
  {
   "cell_type": "markdown",
   "id": "97262b48",
   "metadata": {},
   "source": [
    "<p>Create output path based on segmentation method and parameters and generate folder for storing output if it does not exist. </p>Saves a copy of the configuration used in the output folder as a yaml file."
   ]
  },
  {
   "cell_type": "code",
   "execution_count": 10,
   "id": "177e91df",
   "metadata": {},
   "outputs": [
    {
     "name": "stdout",
     "output_type": "stream",
     "text": [
      "./output_files/bleach_subtract/\n"
     ]
    }
   ],
   "source": [
    "### Parsing the .yaml file and create output folder ------------------------------------------------------------------------\n",
    "with open(yml_file) as file:\n",
    "    user_dict= yaml.load(file, Loader=yaml.FullLoader)\n",
    "output_path = os.path.join('./output_files/', 'bleach_subtract/' )\n",
    "print(output_path)\n",
    "if not os.path.exists(output_path):\n",
    "    os.makedirs(output_path)\n",
    "    shutil.copyfile(yml_file, output_path + \"params.yaml\")"
   ]
  },
  {
   "cell_type": "markdown",
   "id": "3585f5b2",
   "metadata": {},
   "source": [
    "### 2) Subtract bleach from each FOV image and register any shifts in image to DAPI"
   ]
  },
  {
   "cell_type": "markdown",
   "id": "69b5db55",
   "metadata": {},
   "source": [
    "<p>Using multiprocessing, the intensity of the bleached image is subtracted from the hyb images to maximize visibility of the cells and any shifts in the hyb image is registered to the DAPI image using the <font color=purple>subtract_one_image</font> function from <font color=forestgreen>FISHnCHIPsImages</font>. </p>\n",
    "<p>The function outputs the bleach-subtracted hyb images in .tif format.</p>"
   ]
  },
  {
   "cell_type": "code",
   "execution_count": 11,
   "id": "43176cd2",
   "metadata": {},
   "outputs": [],
   "source": [
    "### Subtract images\n",
    "for celltype in celltype_list:\n",
    "    inputs = zip(repeat(user_dict), repeat(output_path), repeat(celltype), fov_list)\n",
    "    with Pool(8) as p:\n",
    "        p.starmap(FISHnCHIPsImages.subtract_one_image, inputs)"
   ]
  },
  {
   "cell_type": "markdown",
   "id": "20c210f1",
   "metadata": {},
   "source": [
    "<p></p>"
   ]
  },
  {
   "cell_type": "markdown",
   "id": "6253aa41",
   "metadata": {},
   "source": [
    "## *Segment DAPI and register all hybs to DAPI (only if all FOVs of DAPI and hyb images are ready)*"
   ]
  },
  {
   "cell_type": "markdown",
   "id": "57745e47",
   "metadata": {},
   "source": [
    "<p>A combination of all the previous functionalities, including segmentation, bleach subtraction, registration of shifts to DAPI, mask position and intensity information, when all DAPI and hyb image files are ready. </p>"
   ]
  },
  {
   "cell_type": "markdown",
   "id": "91cf25f3",
   "metadata": {},
   "source": [
    "### 1) Import configuration from yaml file"
   ]
  },
  {
   "cell_type": "markdown",
   "id": "2f19ed07",
   "metadata": {},
   "source": [
    "<p>As usual, fetch yaml file from its directory and load configuration from the yaml file into the variable <font color=purple>user_dict</font> as a dictionary. </p>\n",
    "<p>Create output directory if it does not exist and save a copy of the configurations used the current data analysis run in the directory as a yaml file.</p>"
   ]
  },
  {
   "cell_type": "code",
   "execution_count": 12,
   "id": "f97054f0",
   "metadata": {},
   "outputs": [],
   "source": [
    "### User inputs -----------------------------------------------------------------------------------------------------------------------\n",
    "yml_file = r'./config_yaml/register_maxshift50params.yaml'"
   ]
  },
  {
   "cell_type": "code",
   "execution_count": 13,
   "id": "045f6224",
   "metadata": {},
   "outputs": [
    {
     "name": "stdout",
     "output_type": "stream",
     "text": [
      "./output_files/cellpose_Nuclei_cs15_k2_filt0/\n"
     ]
    }
   ],
   "source": [
    "### Parsing the .yaml file and create output folder ------------------------------------------------------------------------\n",
    "with open(yml_file) as file:\n",
    "    user_dict= yaml.load(file, Loader=yaml.FullLoader)\n",
    "if user_dict['segmentation']=='cellpose':\n",
    "    output_path = os.path.join('./output_files/', 'cellpose_%s_cs%s_k%s_filt%i/' % (str(user_dict['segment_mode']), str(user_dict['cellsize']), \n",
    "                                                                                  str(user_dict['mask_dilate_factor']), user_dict['filtermask_size']))\n",
    "elif user_dict['segmentation'] == 'watershed':\n",
    "    output_path = os.path.join('./watershed/')\n",
    "print(output_path)\n",
    "if not os.path.exists(output_path):\n",
    "    os.makedirs(output_path)\n",
    "    shutil.copyfile(yml_file, output_path + \"params.yaml\")"
   ]
  },
  {
   "cell_type": "markdown",
   "id": "300c3be0",
   "metadata": {},
   "source": [
    "<p>Create list of FOVs containing all FOVs that constitutes of the whole stitched image.</p>\n",
    "<p>Similar to the <font color=purple>segment_dapi_one_fov</font> function, the <font color=purple>segment_one_fov</font> function from <font color=forestgreen>FISHnCHIPsImages</font> segments each FOV of the available hyb images and returns the list of cell masks for each FOV, which is merged to obtain the full list of cell masks for all FOVs. The <font color=purple>segment_one_fov</font> function also includes the bleach subtraction and shift registration to DAPI process mentioned in the previous workflows.</p>\n",
    "<p>Finally, the list of cell masks from all FOVs is converted into a <font color=lightcoral>Cell_masks</font> object which will be used for spatial and mask intensity analysis in the following part.</p>"
   ]
  },
  {
   "cell_type": "code",
   "execution_count": 16,
   "id": "c4ff4a8c",
   "metadata": {},
   "outputs": [
    {
     "name": "stdout",
     "output_type": "stream",
     "text": [
      "Segementation for all fovs......Done!\n"
     ]
    }
   ],
   "source": [
    "# Segmentation\n",
    "ndigits = len(str(user_dict['fovs']))\n",
    "fov_list = [str(x).zfill(ndigits) for x in range(user_dict['fovs'])] # for pool \n",
    "inputs = zip(repeat(user_dict), repeat(output_path), fov_list)\n",
    "with Pool(8) as p:\n",
    "    list_all_cellmask = p.starmap(FISHnCHIPsImages.segment_one_fov, inputs)\n",
    "merged = list(itertools.chain.from_iterable(list_all_cellmask)) # combine lists of cellmask from all workers\n",
    "\n",
    "All_masks = FISHnCHIPsImages.Cell_masks(merged) # object of all cell masks\n",
    "print(\"Segementation for all fovs......Done!\")"
   ]
  },
  {
   "cell_type": "markdown",
   "id": "9cad95f1",
   "metadata": {},
   "source": [
    "<p>Finally, the mean, median, maximum and summation of mask intensity are calculated from the <font color=lightcoral>Cell_masks</font> object containing all cell masks from all FOVs using the <font color=purple>get_mask_intensity_matrix</font> function from <font color=forestgreen>segmentationFunctions</font>.</p>\n",
    "<p>Other information of the cell masks such as the list of FOVs analysed, cell types identified, mask intensity, area of masks and mask spatial positions are saved as a csv file.</p>\n",
    "<p>To obtain the spatial position in the context where all FOVs are fused into a single image, the FOV and spatial position of each cell mask in their respective FOVs is extracted using the <font color=purple>get_mask_positions_inFOV</font> function from <font color=forestgreen>segmentationFunctions</font>. The output from the <font color=purple>get_mask_positions_inFOV</font> function was fed into the <font color=purple>get_mask_positions_inFuse</font> function to obtain the overall positions of the cell mask in the fused image, saving the spatial positions of the cell masks as a csv file.</p>\n",
    "<p>The cell masks are visualized using a plot which is saved as a jpg file.</p>"
   ]
  },
  {
   "cell_type": "code",
   "execution_count": 17,
   "id": "de341e13",
   "metadata": {},
   "outputs": [
    {
     "name": "stdout",
     "output_type": "stream",
     "text": [
      "row: 0 col: 0 fov: 2\n",
      "row: 0 col: 1 fov: 3\n",
      "1 1 1\n",
      "1 2 0\n",
      "Parsing cell masks intensity......Done! \n"
     ]
    }
   ],
   "source": [
    "# Parse cells information\n",
    "df_mean, df_sum, df_max, df_median = segmentationFunctions.get_mask_intensity_matrix(All_masks)\n",
    "df_mean.to_csv(output_path + 'cellbits_matrix_mean_inten.csv')\n",
    "df_sum.to_csv(output_path + 'cellbits_matrix_sum_inten.csv')\n",
    "df_max.to_csv(output_path + 'cellbits_matrix_max_inten.csv')\n",
    "df_median.to_csv(output_path + 'cellbits_matrix_median_inten.csv')\n",
    "\n",
    "mask_info = segmentationFunctions.get_mask_info(All_masks)\n",
    "mask_info.to_csv(output_path + 'all_masks_data.csv')\n",
    "list_fov, list_x, list_y = segmentationFunctions.get_mask_positions_inFOV(mask_info)\n",
    "image_size = 2048-int(user_dict['overlap_in_px'])*2\n",
    "mask_positions = segmentationFunctions.get_mask_positions_inFuse(list_fov, list_x, list_y, user_dict['fov_x'], user_dict['fov_y'], image_size = image_size)\n",
    "mask_positions.to_csv(output_path + 'cells_positions.csv')\n",
    "print(\"Parsing cell masks intensity......Done! \")\n",
    "\n",
    "plt.figure(figsize = (6,6))\n",
    "plt.scatter(mask_positions['x'], mask_positions['y'], s=0.5)\n",
    "plt.gca().invert_yaxis()\n",
    "plt.gca().set_aspect('equal')\n",
    "plt.tight_layout()\n",
    "plt.savefig(os.path.join(output_path, 'cells_positions_scatter.jpg'), \n",
    "            bbox_inches='tight', dpi = 120)\n",
    "plt.close('all')"
   ]
  },
  {
   "cell_type": "code",
   "execution_count": null,
   "id": "cf88294d",
   "metadata": {},
   "outputs": [],
   "source": []
  }
 ],
 "metadata": {
  "kernelspec": {
   "display_name": "Python 3 (ipykernel)",
   "language": "python",
   "name": "python3"
  },
  "language_info": {
   "codemirror_mode": {
    "name": "ipython",
    "version": 3
   },
   "file_extension": ".py",
   "mimetype": "text/x-python",
   "name": "python",
   "nbconvert_exporter": "python",
   "pygments_lexer": "ipython3",
   "version": "3.9.16"
  }
 },
 "nbformat": 4,
 "nbformat_minor": 5
}
